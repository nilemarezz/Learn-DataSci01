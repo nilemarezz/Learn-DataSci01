{
 "cells": [
  {
   "cell_type": "markdown",
   "metadata": {},
   "source": [
    "# Machine Learning\n",
    "## ประเภทของ Ml (แบ่งตามลักษณะ การสอนของModel)คือ\n",
    "    1. supervised - แบบมีผู้สอนโดยกำหนดข้อมูล และบอกModel ว่าให้ทำอะไร และให้ตัวอย่างการทำงานไป\n",
    "    2. unsupervised - ไม่มีผู้สอน ให้ข้อมูลและ โมเดลจะวิเคราะห์เอง ว่าต้องทำอะไร \n",
    "    3. rienforcement - มีการสอนในเบื่องต้น และเรียนรู้จากการลองผิดลองถูกของ Model โดยเป็นการให้คะแนนและหักคะแนน\n",
    "## ประเภทของ Model คือ\n",
    "    1. classifation - แบ่งกลุ่มของข้อมูลเช่น กลุ่มของผู้ป่ายกับคนธรรมดา (supervised)\n",
    "    2. regression - การทำนายค่าต่างๆ (supervised)\n",
    "    3. rienforcement"
   ]
  },
  {
   "cell_type": "code",
   "execution_count": null,
   "metadata": {},
   "outputs": [],
   "source": [
    "    "
   ]
  },
  {
   "cell_type": "markdown",
   "metadata": {},
   "source": [
    "## Regression\n",
    "\n",
    "![ประเภทของข้อมูล](https://sv1.picz.in.th/images/2019/01/12/9Vfhf2.png \"ประเภทข้อมูล\")\n",
    "\n",
    "![title](\"https://sv1.picz.in.th/images/2019/01/17/9m0dFu.md.png\")\n",
    "\n"
   ]
  },
  {
   "cell_type": "code",
   "execution_count": null,
   "metadata": {},
   "outputs": [],
   "source": []
  }
 ],
 "metadata": {
  "kernelspec": {
   "display_name": "Python 3",
   "language": "python",
   "name": "python3"
  },
  "language_info": {
   "codemirror_mode": {
    "name": "ipython",
    "version": 3
   },
   "file_extension": ".py",
   "mimetype": "text/x-python",
   "name": "python",
   "nbconvert_exporter": "python",
   "pygments_lexer": "ipython3",
   "version": "3.7.1"
  }
 },
 "nbformat": 4,
 "nbformat_minor": 2
}
