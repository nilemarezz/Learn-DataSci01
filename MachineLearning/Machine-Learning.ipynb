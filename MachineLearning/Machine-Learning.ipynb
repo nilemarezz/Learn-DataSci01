{
 "cells": [
  {
   "cell_type": "markdown",
   "metadata": {},
   "source": [
    "# Machine Learning\n",
    "## ประเภทของ Ml (แบ่งตามลักษณะ การสอนของModel)คือ\n",
    "    1. supervised - แบบมีผู้สอนโดยกำหนดข้อมูล และบอกModel ว่าให้ทำอะไร และให้ตัวอย่างการทำงานไป\n",
    "    2. unsupervised - ไม่มีผู้สอน ให้ข้อมูลและ โมเดลจะวิเคราะห์เอง ว่าต้องทำอะไร \n",
    "    3. rienforcement - มีการสอนในเบื่องต้น และเรียนรู้จากการลองผิดลองถูกของ Model โดยเป็นการให้คะแนนและหักคะแนน\n",
    "## ประเภทของ Model คือ\n",
    "    1. classifation - แบ่งกลุ่มของข้อมูลเช่น กลุ่มของผู้ป่ายกับคนธรรมดา (supervised)\n",
    "    2. regression - การทำนายค่าต่างๆ (supervised)\n",
    "    3. rienforcement"
   ]
  },
  {
   "cell_type": "markdown",
   "metadata": {},
   "source": [
    "## Regression\n",
    "\n",
    "![ขั้นตอนการ Modeling](https://sv1.picz.in.th/images/2019/01/17/9m0dFu.md.png \"ขั้นตอนการ Modeling\")\n",
    "\n",
    "\n",
    "\n"
   ]
  },
  {
   "cell_type": "code",
   "execution_count": 67,
   "metadata": {},
   "outputs": [],
   "source": [
    "import pandas as pd\n",
    "import numpy as np\n",
    "import matplotlib.pyplot as plt\n",
    "import seaborn as sns\n",
    "\n",
    "df = pd.read_csv('clear-data.csv')\n"
   ]
  },
  {
   "cell_type": "code",
   "execution_count": 68,
   "metadata": {},
   "outputs": [
    {
     "data": {
      "text/plain": [
       "<matplotlib.collections.PathCollection at 0x1fb387b5320>"
      ]
     },
     "execution_count": 68,
     "metadata": {},
     "output_type": "execute_result"
    },
    {
     "data": {
      "image/png": "[encoded data removed]",
      "text/plain": [
       "<Figure size 432x288 with 1 Axes>"
      ]
     },
     "metadata": {
      "needs_background": "light"
     },
     "output_type": "display_data"
    }
   ],
   "source": [
    "#plot ข้อมูลลงกราฟตามอายุเละราคา โชว์แค่ 15 ข้อมูล \n",
    "df_pre = df[['Age','Fare']][:15]\n",
    "plt.scatter(df_pre['Age'],df_pre['Fare'])"
   ]
  },
  {
   "cell_type": "code",
   "execution_count": 69,
   "metadata": {},
   "outputs": [],
   "source": [
    "# import scikitlearn \n",
    "from sklearn import linear_model\n",
    "from sklearn.metrics import mean_squared_error, r2_score"
   ]
  },
  {
   "cell_type": "code",
   "execution_count": 70,
   "metadata": {},
   "outputs": [],
   "source": [
    "# y=เป้าหมาย x=featueที่ใช้ทำนาย\n",
    "X = df_pre[['Age']]\n",
    "y = df_pre[['Fare']]"
   ]
  },
  {
   "cell_type": "code",
   "execution_count": 71,
   "metadata": {},
   "outputs": [
    {
     "data": {
      "text/plain": [
       "LinearRegression(copy_X=True, fit_intercept=True, n_jobs=None,\n",
       "         normalize=False)"
      ]
     },
     "execution_count": 71,
     "metadata": {},
     "output_type": "execute_result"
    }
   ],
   "source": [
    "# สร้าง model และ fit ค่า X , y \n",
    "model = linear_model.LinearRegression()\n",
    "model.fit(X,y)"
   ]
  },
  {
   "cell_type": "code",
   "execution_count": 72,
   "metadata": {},
   "outputs": [
    {
     "data": {
      "text/plain": [
       "array([[20.76766645],\n",
       "       [30.22102937],\n",
       "       [23.13100718],\n",
       "       [28.44852382],\n",
       "       [28.44852382],\n",
       "       [22.62325508],\n",
       "       [39.67439228],\n",
       "       [ 8.95096281],\n",
       "       [23.72184236],\n",
       "       [16.040985  ],\n",
       "       [10.13263318],\n",
       "       [42.03773301],\n",
       "       [19.58599609],\n",
       "       [30.81186455],\n",
       "       [16.040985  ]])"
      ]
     },
     "execution_count": 72,
     "metadata": {},
     "output_type": "execute_result"
    }
   ],
   "source": [
    "# ทำนายค่าเป็นไว้ในตัวแปร y_pred\n",
    "y_pred = model.predict(X)\n",
    "y_pred"
   ]
  },
  {
   "cell_type": "code",
   "execution_count": 73,
   "metadata": {},
   "outputs": [
    {
     "data": {
      "text/plain": [
       "[<matplotlib.lines.Line2D at 0x1fb387ec978>]"
      ]
     },
     "execution_count": 73,
     "metadata": {},
     "output_type": "execute_result"
    },
    {
     "data": {
      "image/png": "[encoded data removed]",
      "text/plain": [
       "<Figure size 432x288 with 1 Axes>"
      ]
     },
     "metadata": {
      "needs_background": "light"
     },
     "output_type": "display_data"
    }
   ],
   "source": [
    "# plot ค่าที่ทำนายได้ \n",
    "plt.scatter(X,y)\n",
    "plt.plot(X,y_pred,color = 'red', linewidth=3) "
   ]
  },
  {
   "cell_type": "code",
   "execution_count": 76,
   "metadata": {},
   "outputs": [
    {
     "name": "stdout",
     "output_type": "stream",
     "text": [
      "297.2445146312035\n",
      "0.22221194466556982\n",
      "[[0.59083518]]\n"
     ]
    }
   ],
   "source": [
    "# วัดโมเดลว่าทำงานได้ดีแค่ไหน \n",
    "# r2_score ถ้าบวกมากยิ่งดีมาก\n",
    "print(mean_squared_error(y,y_pred))\n",
    "print(r2_score(y,y_pred))\n",
    "print(model.coef_)\n"
   ]
  },
  {
   "cell_type": "markdown",
   "metadata": {},
   "source": [
    "## Train/Test set \n",
    "    การแบ่งข้อมูลเป็นชุดการเรียนรู้และชุดทดสอบ"
   ]
  },
  {
   "cell_type": "code",
   "execution_count": 122,
   "metadata": {},
   "outputs": [
    {
     "data": {
      "text/plain": [
       "629"
      ]
     },
     "execution_count": 122,
     "metadata": {},
     "output_type": "execute_result"
    }
   ],
   "source": [
    "# กำหนดขนาดของข้อมูล Train / Test\n",
    "# train = 889 - 260 = 629ข้อมูล\n",
    "# test = 889 - 629 = 260 ข้อมูล\n",
    "df_test = df[['Age','Fare']]\n",
    "testsize = 260\n",
    "trainsize = df_test[:-testsize].shape[0]\n",
    "trainsize"
   ]
  },
  {
   "cell_type": "code",
   "execution_count": 125,
   "metadata": {},
   "outputs": [],
   "source": [
    "# ใส่ข้อมูลลงในตัวแปร\n",
    "x_train = df_test[['Age']][:-testsize]\n",
    "x_test = df_test[['Age']][trainsize:]\n",
    "y_train = df_test['Fare'][:-testsize]\n",
    "y_test = df_test['Fare'][trainsize:]\n"
   ]
  },
  {
   "cell_type": "code",
   "execution_count": 126,
   "metadata": {},
   "outputs": [
    {
     "data": {
      "text/plain": [
       "Text(0.5, 1.0, 'Testing Set')"
      ]
     },
     "execution_count": 126,
     "metadata": {},
     "output_type": "execute_result"
    },
    {
     "data": {
      "image/png": "[encoded data removed]",
      "text/plain": [
       "<Figure size 432x288 with 2 Axes>"
      ]
     },
     "metadata": {
      "needs_background": "light"
     },
     "output_type": "display_data"
    }
   ],
   "source": [
    "# plot ข้อมูล Train,Test\n",
    "plt.subplot(2,2,1)\n",
    "plt.scatter(x_train,y_train)\n",
    "plt.title('Traning Set')\n",
    "plt.subplot(2,2,2)\n",
    "plt.scatter(x_test,y_test)\n",
    "plt.title('Testing Set')"
   ]
  },
  {
   "cell_type": "code",
   "execution_count": 127,
   "metadata": {},
   "outputs": [
    {
     "data": {
      "image/png": "[encoded data removed]",
      "text/plain": [
       "<Figure size 432x288 with 1 Axes>"
      ]
     },
     "metadata": {
      "needs_background": "light"
     },
     "output_type": "display_data"
    }
   ],
   "source": [
    "#นำข้อมูล train มาใส่ใน model \n",
    "model = linear_model.LinearRegression()\n",
    "model.fit(x_train,y_train)\n",
    "\n",
    "# ทำนายและ plot ค่า test ลงไป \n",
    "y_pred = model.predict(x_test)\n",
    "plt.scatter(x_test,y_test)\n",
    "plt.plot(x_test,y_pred,color = 'red' , linewidth= 3)\n",
    "plt.show()"
   ]
  },
  {
   "cell_type": "code",
   "execution_count": 128,
   "metadata": {},
   "outputs": [
    {
     "name": "stdout",
     "output_type": "stream",
     "text": [
      "3360.381104932917\n",
      "0.012722067267281756\n",
      "[0.4125572]\n"
     ]
    }
   ],
   "source": [
    "print(mean_squared_error(y_test,y_pred))\n",
    "print(r2_score(y_test,y_pred))\n",
    "print(model.coef_)\n"
   ]
  },
  {
   "cell_type": "code",
   "execution_count": null,
   "metadata": {},
   "outputs": [],
   "source": []
  }
 ],
 "metadata": {
  "kernelspec": {
   "display_name": "Python 3",
   "language": "python",
   "name": "python3"
  },
  "language_info": {
   "codemirror_mode": {
    "name": "ipython",
    "version": 3
   },
   "file_extension": ".py",
   "mimetype": "text/x-python",
   "name": "python",
   "nbconvert_exporter": "python",
   "pygments_lexer": "ipython3",
   "version": "3.7.1"
  }
 },
 "nbformat": 4,
 "nbformat_minor": 2
}
